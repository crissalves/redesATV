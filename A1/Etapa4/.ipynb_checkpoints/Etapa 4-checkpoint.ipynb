{
 "cells": [
  {
   "cell_type": "code",
   "execution_count": 9,
   "id": "d913803c",
   "metadata": {},
   "outputs": [],
   "source": [
    "import numpy as np\n",
    "import sounddevice as sd\n",
    "import soundfile as sf\n",
    "import matplotlib.pyplot as plt\n",
    "\n",
    "SAMPLE_RATE = 44100\n",
    "BIT_DURATION = 1\n",
    "FREQ_LOW = 440\n",
    "FREQ_HIGH = 880"
   ]
  },
  {
   "cell_type": "code",
   "execution_count": 10,
   "id": "4e8591cf",
   "metadata": {},
   "outputs": [],
   "source": [
    "def generate_tone(frequency, duration, sample_rate=SAMPLE_RATE):\n",
    "    t = np.linspace(0, duration, int(sample_rate * duration), False)\n",
    "    tone = np.sin(2 * np.pi * frequency * t)\n",
    "    window = np.hanning(len(tone))\n",
    "    return tone * window\n",
    "\n",
    "def detect_frequency(audio_segment, sample_rate=SAMPLE_RATE):\n",
    "    fft = np.fft.fft(audio_segment)\n",
    "    freqs = np.fft.fftfreq(len(fft), 1/sample_rate)\n",
    "    magnitude = np.abs(fft[:len(fft)//2])\n",
    "    freqs_positive = freqs[:len(freqs)//2]\n",
    "    peak_idx = np.argmax(magnitude)\n",
    "    return abs(freqs_positive[peak_idx])\n",
    "\n",
    "def frequency_to_bit(frequency, threshold=660):\n",
    "    return '1' if frequency > threshold else '0'\n",
    "\n",
    "def decode_manchester(audio_signal, num_bits):\n",
    "    samples_per_bit = int(SAMPLE_RATE * BIT_DURATION)\n",
    "    decoded_bits = \"\"\n",
    "    for i in range(num_bits):\n",
    "        start_idx = i * samples_per_bit\n",
    "        end_idx = start_idx + samples_per_bit\n",
    "        if end_idx > len(audio_signal):\n",
    "            break\n",
    "        mid = start_idx + samples_per_bit // 2\n",
    "        first_half = audio_signal[start_idx + samples_per_bit//8 : mid - samples_per_bit//8]\n",
    "        second_half = audio_signal[mid + samples_per_bit//8 : end_idx - samples_per_bit//8]\n",
    "        freq1 = detect_frequency(first_half)\n",
    "        freq2 = detect_frequency(second_half)\n",
    "        state1 = frequency_to_bit(freq1)\n",
    "        state2 = frequency_to_bit(freq2)\n",
    "        if state1 == '1' and state2 == '0':\n",
    "            decoded_bits += '1'\n",
    "        elif state1 == '0' and state2 == '1':\n",
    "            decoded_bits += '0'\n",
    "        else:\n",
    "            decoded_bits += '?'  # erro\n",
    "    return decoded_bits"
   ]
  },
  {
   "cell_type": "code",
   "execution_count": 11,
   "id": "826d8b64",
   "metadata": {},
   "outputs": [],
   "source": [
    "arquivo_alvo = 'dados_ar.wav'  # <-- Troque pelo nome do arquivo que quer testar\n",
    "\n",
    "# Lê o gabarito\n",
    "with open('gabarito.csv', newline='', encoding='utf-8') as f:\n",
    "    leitor = csv.DictReader(f)\n",
    "    for linha in leitor:\n",
    "        if linha['arquivo'] == arquivo_alvo:\n",
    "            msg_original = linha['msg']\n",
    "            n_bits = int(linha['n_bits'])\n",
    "            modulacao = linha['modulacao']\n",
    "            break\n",
    "\n",
    "print(f\"Arquivo:    {arquivo_alvo}\")\n",
    "print(f\"Mensagem:   {msg_original}\")\n",
    "print(f\"Bits:       {n_bits}\")\n",
    "print(f\"Modulação:  {modulacao}\")"
   ]
  },
  {
   "cell_type": "code",
   "execution_count": 12,
   "id": "7149bfc4",
   "metadata": {},
   "outputs": [
    {
     "name": "stdout",
     "output_type": "stream",
     "text": [
      "Iniciando captura por 6 segundos...\n",
      "Reproduza o áudio no seu celular AGORA!\n",
      "Captura concluída!\n",
      "\n",
      "Tentando decodificar...\n",
      "Decodificado: ?????\n"
     ]
    }
   ],
   "source": [
    "# Lê o áudio do arquivo como se fosse uma captura do microfone\n",
    "audio_capturado, _ = sf.read(arquivo_alvo)\n",
    "\n",
    "# Decodificação\n",
    "if modulacao == 'encode_manchester':\n",
    "    decoded = decode_manchester(audio_capturado, n_bits)\n",
    "else:\n",
    "    decoded = decode_nrz(audio_capturado, n_bits)\n",
    "\n",
    "# Resultado\n",
    "print(f\"\\nOriginal:   {msg_original}\")\n",
    "print(f\"Decodificado: {decoded}\")\n",
    "print(f\"Correto:    {msg_original == decoded}\")"
   ]
  },
  {
   "cell_type": "code",
   "execution_count": null,
   "id": "e39bf66c",
   "metadata": {},
   "outputs": [],
   "source": []
  }
 ],
 "metadata": {
  "kernelspec": {
   "display_name": "Python 3 (ipykernel)",
   "language": "python",
   "name": "python3"
  },
  "language_info": {
   "codemirror_mode": {
    "name": "ipython",
    "version": 3
   },
   "file_extension": ".py",
   "mimetype": "text/x-python",
   "name": "python",
   "nbconvert_exporter": "python",
   "pygments_lexer": "ipython3",
   "version": "3.12.3"
  }
 },
 "nbformat": 4,
 "nbformat_minor": 5
}
