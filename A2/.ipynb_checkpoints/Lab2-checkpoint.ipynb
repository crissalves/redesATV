{
 "cells": [
  {
   "cell_type": "code",
   "execution_count": 2,
   "id": "182065ad",
   "metadata": {},
   "outputs": [
    {
     "name": "stdout",
     "output_type": "stream",
     "text": [
      "Dados M(x): 1101011111\n",
      "Gerador G(x): 10011\n",
      "CRC Calculado: 0010\n",
      "CRC Esperado (do slide): 1110\n",
      "Quadro T(x) a ser transmitido: 11010111110010\n"
     ]
    }
   ],
   "source": [
    "def xor_bits(a, b):\n",
    "    resultado = \"\"\n",
    "    for i in range(len(a)):\n",
    "        if a[i] == b[i]:\n",
    "            resultado += '0'\n",
    "        else:\n",
    "            resultado += '1'\n",
    "    return resultado\n",
    "\n",
    "def calcular_crc_manual(dados_bits: str, gerador_bits: str) -> str:\n",
    "    n = len(gerador_bits)\n",
    "    r = n - 1\n",
    "    mensagem_aumentada = list(dados_bits + '0' * r)\n",
    "    \n",
    "    for i in range(len(dados_bits)):\n",
    "        if mensagem_aumentada[i] == '1':\n",
    "            janela_atual = \"\".join(mensagem_aumentada[i : i + n])\n",
    "            resultado_xor = xor_bits(janela_atual, gerador_bits)\n",
    "            for j in range(n):\n",
    "                mensagem_aumentada[i + j] = resultado_xor[j]\n",
    "    \n",
    "    resto = \"\".join(mensagem_aumentada[-r:])\n",
    "    return resto\n",
    "\n",
    "# Exemplo de uso para validação\n",
    "dados_teste = \"1101011111\"\n",
    "gerador_teste = \"10011\"\n",
    "\n",
    "crc_calculado = calcular_crc_manual(dados_teste, gerador_teste)\n",
    "\n",
    "print(f\"Dados M(x): {dados_teste}\")\n",
    "print(f\"Gerador G(x): {gerador_teste}\")\n",
    "print(f\"CRC Calculado: {crc_calculado}\")\n",
    "print(f\"CRC Esperado (do slide): 1110\")\n",
    "\n",
    "quadro_transmitido = dados_teste + crc_calculado\n",
    "print(f\"Quadro T(x) a ser transmitido: {quadro_transmitido}\")"
   ]
  },
  {
   "cell_type": "markdown",
   "id": "9a5829bf",
   "metadata": {},
   "source": [
    "Parte 2:"
   ]
  },
  {
   "cell_type": "code",
   "execution_count": 5,
   "id": "9daf8802",
   "metadata": {},
   "outputs": [
    {
     "ename": "SyntaxError",
     "evalue": "invalid syntax (1323286686.py, line 1)",
     "output_type": "error",
     "traceback": [
      "\u001b[0;36m  Cell \u001b[0;32mIn[5], line 1\u001b[0;36m\u001b[0m\n\u001b[0;31m    apt install crc matplotlib\u001b[0m\n\u001b[0m        ^\u001b[0m\n\u001b[0;31mSyntaxError\u001b[0m\u001b[0;31m:\u001b[0m invalid syntax\n"
     ]
    }
   ],
   "source": [
    "pip install crc matplotlib"
   ]
  },
  {
   "cell_type": "code",
   "execution_count": 4,
   "id": "3049e0ce",
   "metadata": {},
   "outputs": [
    {
     "ename": "ModuleNotFoundError",
     "evalue": "No module named 'crc'",
     "output_type": "error",
     "traceback": [
      "\u001b[0;31m---------------------------------------------------------------------------\u001b[0m",
      "\u001b[0;31mModuleNotFoundError\u001b[0m                       Traceback (most recent call last)",
      "Cell \u001b[0;32mIn[4], line 4\u001b[0m\n\u001b[1;32m      2\u001b[0m \u001b[38;5;28;01mimport\u001b[39;00m \u001b[38;5;21;01mtracemalloc\u001b[39;00m\n\u001b[1;32m      3\u001b[0m \u001b[38;5;28;01mimport\u001b[39;00m \u001b[38;5;21;01mos\u001b[39;00m\n\u001b[0;32m----> 4\u001b[0m \u001b[38;5;28;01mfrom\u001b[39;00m \u001b[38;5;21;01mcrc\u001b[39;00m \u001b[38;5;28;01mimport\u001b[39;00m Calculator, Crc16\n\u001b[1;32m      5\u001b[0m \u001b[38;5;28;01mimport\u001b[39;00m \u001b[38;5;21;01mmatplotlib\u001b[39;00m\u001b[38;5;21;01m.\u001b[39;00m\u001b[38;5;21;01mpyplot\u001b[39;00m \u001b[38;5;28;01mas\u001b[39;00m \u001b[38;5;21;01mplt\u001b[39;00m\n\u001b[1;32m      6\u001b[0m \u001b[38;5;28;01mimport\u001b[39;00m \u001b[38;5;21;01mplatform\u001b[39;00m\n",
      "\u001b[0;31mModuleNotFoundError\u001b[0m: No module named 'crc'"
     ]
    }
   ],
   "source": [
    "import time\n",
    "import tracemalloc\n",
    "import os\n",
    "from crc import Calculator, Crc16\n",
    "import matplotlib.pyplot as plt\n",
    "import platform\n",
    "\n",
    "def xor_bits(a, b):\n",
    "    resultado = \"\"\n",
    "    for i in range(len(a)):\n",
    "        if a[i] == b[i]:\n",
    "            resultado += '0'\n",
    "        else:\n",
    "            resultado += '1'\n",
    "    return resultado\n",
    "\n",
    "def calcular_crc_manual(dados_bits: str, gerador_bits: str) -> str:\n",
    "    n = len(gerador_bits)\n",
    "    r = n - 1\n",
    "    mensagem_aumentada = list(dados_bits + '0' * r)\n",
    "    for i in range(len(dados_bits)):\n",
    "        if mensagem_aumentada[i] == '1':\n",
    "            janela_atual = \"\".join(mensagem_aumentada[i : i + n])\n",
    "            resultado_xor = xor_bits(janela_atual, gerador_bits)\n",
    "            for j in range(n):\n",
    "                mensagem_aumentada[i + j] = resultado_xor[j]\n",
    "    resto = \"\".join(mensagem_aumentada[-r:])\n",
    "    return resto\n",
    "\n",
    "calculator_lib = Calculator(Crc16.MODBUS)\n",
    "tamanhos_bytes = [1500, 3000, 6000, 16000]\n",
    "gerador_modbus_bits = \"11000000000000101\"\n",
    "resultados = []\n",
    "\n",
    "for tamanho in tamanhos_bytes:\n",
    "    mensagem_bytes = os.urandom(tamanho)\n",
    "    mensagem_bits = \"\".join(format(byte, '08b') for byte in mensagem_bytes)\n",
    "    \n",
    "    # Medição da Implementação Manual\n",
    "    tracemalloc.start()\n",
    "    start_time_manual = time.perf_counter()\n",
    "    crc_manual = calcular_crc_manual(mensagem_bits, gerador_modbus_bits)\n",
    "    end_time_manual = time.perf_counter()\n",
    "    mem_atual_manual, mem_pico_manual = tracemalloc.get_traced_memory()\n",
    "    tracemalloc.stop()\n",
    "    tempo_manual = end_time_manual - start_time_manual\n",
    "    \n",
    "    # Medição da Biblioteca\n",
    "    tracemalloc.start()\n",
    "    start_time_lib = time.perf_counter()\n",
    "    crc_lib = calculator_lib.checksum(mensagem_bytes)\n",
    "    end_time_lib = time.perf_counter()\n",
    "    mem_atual_lib, mem_pico_lib = tracemalloc.get_traced_memory()\n",
    "    tracemalloc.stop()\n",
    "    tempo_lib = end_time_lib - start_time_lib\n",
    "    \n",
    "    resultados.append({\n",
    "        \"tamanho\": tamanho,\n",
    "        \"tempo_manual\": tempo_manual,\n",
    "        \"mem_pico_manual\": mem_pico_manual / 1024,\n",
    "        \"tempo_lib\": tempo_lib,\n",
    "        \"mem_pico_lib\": mem_pico_lib / 1024\n",
    "    })\n",
    "\n",
    "print(\"--- Resultados Finais ---\")\n",
    "for res in resultados:\n",
    "    print(res)\n",
    "\n",
    "# Geração dos Gráficos\n",
    "tamanhos = [r['tamanho'] for r in resultados]\n",
    "tempos_manual = [r['tempo_manual'] for r in resultados]\n",
    "tempos_lib = [r['tempo_lib'] for r in resultados]\n",
    "mems_manual = [r['mem_pico_manual'] for r in resultados]\n",
    "mems_lib = [r['mem_pico_lib'] for r in resultados]\n",
    "\n",
    "# Gráfico 1: Tempo de Execução\n",
    "plt.figure(figsize=(10, 5))\n",
    "plt.plot(tamanhos, tempos_manual, marker='o', label='Implementação Manual')\n",
    "plt.plot(tamanhos, tempos_lib, marker='o', label='Biblioteca Otimizada (crc)')\n",
    "plt.title('Tempo de Execução vs. Tamanho da Mensagem')\n",
    "plt.xlabel('Tamanho da Mensagem (bytes)')\n",
    "plt.ylabel('Tempo de Execução (segundos)')\n",
    "plt.legend()\n",
    "plt.grid(True)\n",
    "plt.show()\n",
    "\n",
    "# Gráfico 2: Pico de Memória\n",
    "plt.figure(figsize=(10, 5))\n",
    "plt.plot(tamanhos, mems_manual, marker='o', label='Implementação Manual')\n",
    "plt.plot(tamanhos, mems_lib, marker='o', label='Biblioteca Otimizada (crc)')\n",
    "plt.title('Pico de Memória vs. Tamanho da Mensagem')\n",
    "plt.xlabel('Tamanho da Mensagem (bytes)')\n",
    "plt.ylabel('Pico de Memória (KiB)')\n",
    "plt.legend()\n",
    "plt.grid(True)\n",
    "plt.show()\n",
    "\n",
    "# Informações da Máquina\n",
    "print(\"\\n--- Informações da Máquina ---\")\n",
    "print(f\"Processador: {platform.processor()}\")\n",
    "print(f\"Sistema Operacional: {platform.system()} {platform.release()}\")"
   ]
  }
 ],
 "metadata": {
  "kernelspec": {
   "display_name": "Python 3 (ipykernel)",
   "language": "python",
   "name": "python3"
  },
  "language_info": {
   "codemirror_mode": {
    "name": "ipython",
    "version": 3
   },
   "file_extension": ".py",
   "mimetype": "text/x-python",
   "name": "python",
   "nbconvert_exporter": "python",
   "pygments_lexer": "ipython3",
   "version": "3.12.3"
  }
 },
 "nbformat": 4,
 "nbformat_minor": 5
}
